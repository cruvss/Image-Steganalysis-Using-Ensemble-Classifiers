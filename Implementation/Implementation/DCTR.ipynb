{
 "cells": [
  {
   "cell_type": "code",
   "execution_count": 33,
   "metadata": {},
   "outputs": [],
   "source": [
    "from scipy.io import loadmat\n",
    "from scipy.io import savemat\n",
    "import numpy as np"
   ]
  },
  {
   "cell_type": "code",
   "execution_count": 2,
   "metadata": {},
   "outputs": [],
   "source": [
    "data=loadmat('all_features.mat')"
   ]
  },
  {
   "cell_type": "code",
   "execution_count": 6,
   "metadata": {},
   "outputs": [],
   "source": [
    "temp=data[\"all_features\"]"
   ]
  },
  {
   "cell_type": "code",
   "execution_count": 24,
   "metadata": {},
   "outputs": [],
   "source": [
    "temp=temp.reshape(-1,1)\n"
   ]
  },
  {
   "cell_type": "code",
   "execution_count": 25,
   "metadata": {},
   "outputs": [],
   "source": [
    "flat_temp = np.vstack([np.hstack(inner_array) for inner_array in temp])"
   ]
  },
  {
   "cell_type": "code",
   "execution_count": 26,
   "metadata": {},
   "outputs": [
    {
     "data": {
      "text/plain": [
       "(4, 8000)"
      ]
     },
     "execution_count": 26,
     "metadata": {},
     "output_type": "execute_result"
    }
   ],
   "source": [
    "flat_temp.shape"
   ]
  },
  {
   "cell_type": "code",
   "execution_count": 31,
   "metadata": {},
   "outputs": [],
   "source": [
    "data[\"all_features\"]=flat_temp"
   ]
  },
  {
   "cell_type": "code",
   "execution_count": 32,
   "metadata": {},
   "outputs": [
    {
     "data": {
      "text/plain": [
       "{'__header__': b'MATLAB 5.0 MAT-file, Platform: PCWIN64, Created on: Sun Feb  4 23:56:44 2024',\n",
       " '__version__': '1.0',\n",
       " '__globals__': [],\n",
       " 'all_features': array([[4.8828125e-04, 1.6479492e-03, 8.5449219e-04, ..., 1.8662037e-02,\n",
       "         7.1920143e-03, 8.6180177e-03],\n",
       "        [1.1596680e-03, 2.7465820e-03, 2.9296875e-03, ..., 2.1383843e-01,\n",
       "         1.1370823e-01, 1.0602021e-01],\n",
       "        [1.6479492e-03, 2.2583008e-03, 1.7700195e-03, ..., 3.6580074e-03,\n",
       "         3.1000061e-04, 6.2000123e-05],\n",
       "        [6.7138672e-04, 1.6479492e-03, 1.6479492e-03, ..., 1.9747040e-01,\n",
       "         1.0986422e-01, 1.3528427e-01]], dtype=float32)}"
      ]
     },
     "execution_count": 32,
     "metadata": {},
     "output_type": "execute_result"
    }
   ],
   "source": [
    "data"
   ]
  },
  {
   "cell_type": "code",
   "execution_count": 34,
   "metadata": {},
   "outputs": [],
   "source": [
    "savemat('stego.mat',{'data':flat_temp})"
   ]
  },
  {
   "cell_type": "code",
   "execution_count": null,
   "metadata": {},
   "outputs": [],
   "source": []
  }
 ],
 "metadata": {
  "kernelspec": {
   "display_name": "Python 3",
   "language": "python",
   "name": "python3"
  },
  "language_info": {
   "codemirror_mode": {
    "name": "ipython",
    "version": 3
   },
   "file_extension": ".py",
   "mimetype": "text/x-python",
   "name": "python",
   "nbconvert_exporter": "python",
   "pygments_lexer": "ipython3",
   "version": "3.12.1"
  }
 },
 "nbformat": 4,
 "nbformat_minor": 2
}
