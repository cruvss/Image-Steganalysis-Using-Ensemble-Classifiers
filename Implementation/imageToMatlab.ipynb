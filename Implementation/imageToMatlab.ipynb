{
 "cells": [
  {
   "cell_type": "code",
   "execution_count": 1,
   "metadata": {},
   "outputs": [],
   "source": [
    "\n",
    "import os\n",
    "import tempfile\n",
    "import shutil\n",
    "import numpy\n",
    "from scipy.io import savemat, loadmat"
   ]
  },
  {
   "cell_type": "code",
   "execution_count": 3,
   "metadata": {},
   "outputs": [],
   "source": [
    "#!/usr/bin/python\n",
    "# -*- coding: utf-8 -*-\n",
    "\n",
    "\n",
    "MATLAB = \"C:\\\\Program Files\\\\MATLAB\\\\R2017b\\\\bin\\\\matlab.exe -nodesktop -nojvm -nosplash -r\"\n",
    "\n",
    "\n",
    "class EC:\n",
    "\n",
    "\n",
    "    def fit(self, X, y):\n",
    "        \n",
    "        self.__tmpdir=tempfile.mkdtemp()\n",
    "\n",
    "        y=numpy.array(y)\n",
    "        Xc=X[y==0]\n",
    "        Xs=X[y==1]\n",
    "        \n",
    "        if len(Xc)>len(Xs):\n",
    "            Xs=Xs[:len(Xc)]\n",
    "\n",
    "        if len(Xs)>len(Xc):\n",
    "            Xc=Xc[:len(Xs)]\n",
    "\n",
    "        pcover=self.__tmpdir+\"/F_train_cover.mat\"\n",
    "        savemat(pcover, mdict={'F': numpy.array(Xc)}, oned_as='column')\n",
    "\n",
    "        pstego=self.__tmpdir+\"/F_train_stego.mat\"\n",
    "        savemat(pstego, mdict={'F': numpy.array(Xs)}, oned_as='column')\n",
    "\n",
    "        pclf=self.__tmpdir+\"/clf.mat\"\n",
    "    \n",
    "        cwd=os.getcwd()\n",
    "        os.chdir(os.path.dirname(os.path.abspath(__file__)))\n",
    "        output=os.popen(MATLAB+\" \\\" ensemble_fit('\"+\n",
    "            pcover+\"', '\"+pstego+\"', '\"+pclf+\"');exit \\\"\").read()\n",
    "        os.chdir(cwd)\n",
    "\n",
    "        self.__mat_clf=loadmat(pclf)\n",
    "        shutil.rmtree(self.__tmpdir)\n",
    "\n",
    "    def predict_proba(self, X):\n",
    "\n",
    "        self.__tmpdir=tempfile.mkdtemp()\n",
    "\n",
    "        prob=[]\n",
    "\n",
    "        path=self.__tmpdir+\"/F_test.mat\"\n",
    "        savemat(path, mdict={'F': numpy.array(X)}, oned_as='column')\n",
    "\n",
    "        pclf=self.__tmpdir+\"/clf.mat\"\n",
    "        savemat(pclf, self.__mat_clf)\n",
    "\n",
    "        pvotes=self.__tmpdir+\"/votes.txt\"\n",
    "\n",
    "        cwd=os.getcwd()\n",
    "        os.chdir(os.path.dirname(os.path.abspath(__file__)))\n",
    "        output=os.popen(MATLAB+\" \\\" ensemble_predict('\"+\n",
    "            pclf+\"', '\"+path+\"', '\"+pvotes+\"');exit \\\"\").read()\n",
    "        os.chdir(cwd)\n",
    "\n",
    "        with open(pvotes, 'r') as f:\n",
    "            lines=f.readlines()\n",
    "        f.close()\n",
    "\n",
    "        shutil.rmtree(self.__tmpdir)\n",
    "\n",
    "        for l in lines:\n",
    "            votes=(1+float(l)/500)/2\n",
    "            prob.append( [1-votes, votes] )\n",
    "\n",
    "        return prob\n",
    "\n",
    "\n",
    "    def predict(self, X):\n",
    "        results=[]\n",
    "        proba=self.predict_proba(X)\n",
    "        for p in proba:\n",
    "            if p[0]>=0.5:\n",
    "                results.append(0)\n",
    "            else:\n",
    "                results.append(1)\n",
    "        return numpy.array(results)\n",
    "\n",
    "    def score(self, X, y):\n",
    "        Z=self.predict(X)\n",
    "        result=numpy.count_nonzero(Z==y)\n",
    "        return round(float(result)/len(y), 2)\n",
    "\n",
    "\n",
    "    def save(self, path):\n",
    "        savemat(path, self.__mat_clf)\n",
    "\n",
    "    def load(self, path):\n",
    "        self.__mat_clf=loadmat(path)"
   ]
  },
  {
   "cell_type": "code",
   "execution_count": 9,
   "metadata": {},
   "outputs": [],
   "source": [
    "X_cover=loadmat(\"processed_coverV1.mat\")\n"
   ]
  },
  {
   "cell_type": "code",
   "execution_count": 10,
   "metadata": {},
   "outputs": [],
   "source": [
    "X_cover=X_cover['F']"
   ]
  },
  {
   "cell_type": "code",
   "execution_count": 11,
   "metadata": {},
   "outputs": [],
   "source": [
    "X_stego=loadmat(\"processed_stegoV1.mat\")"
   ]
  },
  {
   "cell_type": "code",
   "execution_count": 12,
   "metadata": {},
   "outputs": [],
   "source": [
    "X_stego=X_stego['F']"
   ]
  },
  {
   "cell_type": "code",
   "execution_count": 18,
   "metadata": {},
   "outputs": [],
   "source": [
    "X_stego=numpy.array(X_stego)"
   ]
  },
  {
   "cell_type": "code",
   "execution_count": 19,
   "metadata": {},
   "outputs": [],
   "source": [
    "X_cover=numpy.array(X_cover)"
   ]
  },
  {
   "cell_type": "code",
   "execution_count": 25,
   "metadata": {},
   "outputs": [],
   "source": [
    "X=numpy.concatenate((X_cover,X_stego))"
   ]
  },
  {
   "cell_type": "code",
   "execution_count": 26,
   "metadata": {},
   "outputs": [
    {
     "data": {
      "text/plain": [
       "array([[0.13601132, 0.00848917, 0.00732037, ..., 0.00424021, 0.00215144,\n",
       "        0.00820888],\n",
       "       [0.07701772, 0.01242618, 0.01433317, ..., 0.00467885, 0.00367624,\n",
       "        0.01374413],\n",
       "       [0.1644316 , 0.0078125 , 0.00732037, ..., 0.00971279, 0.00570235,\n",
       "        0.00841775],\n",
       "       ...,\n",
       "       [0.09596457, 0.01002707, 0.01285679, ..., 0.00248564, 0.00194256,\n",
       "        0.00572324],\n",
       "       [0.08698327, 0.01224163, 0.01273376, ..., 0.00660052, 0.00386423,\n",
       "        0.0076658 ],\n",
       "       [0.19992618, 0.00873524, 0.00744341, ..., 0.01896606, 0.01739948,\n",
       "        0.0803342 ]], dtype=float32)"
      ]
     },
     "execution_count": 26,
     "metadata": {},
     "output_type": "execute_result"
    }
   ],
   "source": [
    "X\n"
   ]
  },
  {
   "cell_type": "code",
   "execution_count": 29,
   "metadata": {},
   "outputs": [],
   "source": [
    "y_cover = numpy.zeros(len(X_cover))\n",
    "y_stego = numpy.ones(len(X_stego))\n",
    "y = numpy.concatenate((y_cover, y_stego))"
   ]
  },
  {
   "cell_type": "code",
   "execution_count": 30,
   "metadata": {},
   "outputs": [],
   "source": [
    "ec=EC()"
   ]
  },
  {
   "cell_type": "code",
   "execution_count": 31,
   "metadata": {},
   "outputs": [
    {
     "ename": "MemoryError",
     "evalue": "",
     "output_type": "error",
     "traceback": [
      "\u001b[1;31m---------------------------------------------------------------------------\u001b[0m",
      "\u001b[1;31mMemoryError\u001b[0m                               Traceback (most recent call last)",
      "Cell \u001b[1;32mIn[31], line 1\u001b[0m\n\u001b[1;32m----> 1\u001b[0m \u001b[43mec\u001b[49m\u001b[38;5;241;43m.\u001b[39;49m\u001b[43mfit\u001b[49m\u001b[43m(\u001b[49m\u001b[43mX\u001b[49m\u001b[43m,\u001b[49m\u001b[43my\u001b[49m\u001b[43m)\u001b[49m\n",
      "Cell \u001b[1;32mIn[3], line 26\u001b[0m, in \u001b[0;36mEC.fit\u001b[1;34m(self, X, y)\u001b[0m\n\u001b[0;32m     23\u001b[0m     Xc\u001b[38;5;241m=\u001b[39mXc[:\u001b[38;5;28mlen\u001b[39m(Xs)]\n\u001b[0;32m     25\u001b[0m pcover\u001b[38;5;241m=\u001b[39m\u001b[38;5;28mself\u001b[39m\u001b[38;5;241m.\u001b[39m__tmpdir\u001b[38;5;241m+\u001b[39m\u001b[38;5;124m\"\u001b[39m\u001b[38;5;124m/F_train_cover.mat\u001b[39m\u001b[38;5;124m\"\u001b[39m\n\u001b[1;32m---> 26\u001b[0m \u001b[43msavemat\u001b[49m\u001b[43m(\u001b[49m\u001b[43mpcover\u001b[49m\u001b[43m,\u001b[49m\u001b[43m \u001b[49m\u001b[43mmdict\u001b[49m\u001b[38;5;241;43m=\u001b[39;49m\u001b[43m{\u001b[49m\u001b[38;5;124;43m'\u001b[39;49m\u001b[38;5;124;43mF\u001b[39;49m\u001b[38;5;124;43m'\u001b[39;49m\u001b[43m:\u001b[49m\u001b[43m \u001b[49m\u001b[43mnumpy\u001b[49m\u001b[38;5;241;43m.\u001b[39;49m\u001b[43marray\u001b[49m\u001b[43m(\u001b[49m\u001b[43mXc\u001b[49m\u001b[43m)\u001b[49m\u001b[43m}\u001b[49m\u001b[43m,\u001b[49m\u001b[43m \u001b[49m\u001b[43moned_as\u001b[49m\u001b[38;5;241;43m=\u001b[39;49m\u001b[38;5;124;43m'\u001b[39;49m\u001b[38;5;124;43mcolumn\u001b[39;49m\u001b[38;5;124;43m'\u001b[39;49m\u001b[43m)\u001b[49m\n\u001b[0;32m     28\u001b[0m pstego\u001b[38;5;241m=\u001b[39m\u001b[38;5;28mself\u001b[39m\u001b[38;5;241m.\u001b[39m__tmpdir\u001b[38;5;241m+\u001b[39m\u001b[38;5;124m\"\u001b[39m\u001b[38;5;124m/F_train_stego.mat\u001b[39m\u001b[38;5;124m\"\u001b[39m\n\u001b[0;32m     29\u001b[0m savemat(pstego, mdict\u001b[38;5;241m=\u001b[39m{\u001b[38;5;124m'\u001b[39m\u001b[38;5;124mF\u001b[39m\u001b[38;5;124m'\u001b[39m: numpy\u001b[38;5;241m.\u001b[39marray(Xs)}, oned_as\u001b[38;5;241m=\u001b[39m\u001b[38;5;124m'\u001b[39m\u001b[38;5;124mcolumn\u001b[39m\u001b[38;5;124m'\u001b[39m)\n",
      "File \u001b[1;32m~\\AppData\\Local\\Packages\\PythonSoftwareFoundation.Python.3.12_qbz5n2kfra8p0\\LocalCache\\local-packages\\Python312\\site-packages\\scipy\\io\\matlab\\_mio.py:301\u001b[0m, in \u001b[0;36msavemat\u001b[1;34m(file_name, mdict, appendmat, format, long_field_names, do_compression, oned_as)\u001b[0m\n\u001b[0;32m    299\u001b[0m \u001b[38;5;28;01melse\u001b[39;00m:\n\u001b[0;32m    300\u001b[0m     \u001b[38;5;28;01mraise\u001b[39;00m \u001b[38;5;167;01mValueError\u001b[39;00m(\u001b[38;5;124m\"\u001b[39m\u001b[38;5;124mFormat should be \u001b[39m\u001b[38;5;124m'\u001b[39m\u001b[38;5;124m4\u001b[39m\u001b[38;5;124m'\u001b[39m\u001b[38;5;124m or \u001b[39m\u001b[38;5;124m'\u001b[39m\u001b[38;5;124m5\u001b[39m\u001b[38;5;124m'\u001b[39m\u001b[38;5;124m\"\u001b[39m)\n\u001b[1;32m--> 301\u001b[0m \u001b[43mMW\u001b[49m\u001b[38;5;241;43m.\u001b[39;49m\u001b[43mput_variables\u001b[49m\u001b[43m(\u001b[49m\u001b[43mmdict\u001b[49m\u001b[43m)\u001b[49m\n",
      "File \u001b[1;32m~\\AppData\\Local\\Packages\\PythonSoftwareFoundation.Python.3.12_qbz5n2kfra8p0\\LocalCache\\local-packages\\Python312\\site-packages\\scipy\\io\\matlab\\_mio5.py:892\u001b[0m, in \u001b[0;36mMatFile5Writer.put_variables\u001b[1;34m(self, mdict, write_header)\u001b[0m\n\u001b[0;32m    890\u001b[0m     \u001b[38;5;28mself\u001b[39m\u001b[38;5;241m.\u001b[39mfile_stream\u001b[38;5;241m.\u001b[39mwrite(out_str)\n\u001b[0;32m    891\u001b[0m \u001b[38;5;28;01melse\u001b[39;00m:  \u001b[38;5;66;03m# not compressing\u001b[39;00m\n\u001b[1;32m--> 892\u001b[0m     \u001b[38;5;28;43mself\u001b[39;49m\u001b[38;5;241;43m.\u001b[39;49m\u001b[43m_matrix_writer\u001b[49m\u001b[38;5;241;43m.\u001b[39;49m\u001b[43mwrite_top\u001b[49m\u001b[43m(\u001b[49m\u001b[43mvar\u001b[49m\u001b[43m,\u001b[49m\u001b[43m \u001b[49m\u001b[43mname\u001b[49m\u001b[38;5;241;43m.\u001b[39;49m\u001b[43mencode\u001b[49m\u001b[43m(\u001b[49m\u001b[38;5;124;43m'\u001b[39;49m\u001b[38;5;124;43mlatin1\u001b[39;49m\u001b[38;5;124;43m'\u001b[39;49m\u001b[43m)\u001b[49m\u001b[43m,\u001b[49m\u001b[43m \u001b[49m\u001b[43mis_global\u001b[49m\u001b[43m)\u001b[49m\n",
      "File \u001b[1;32m~\\AppData\\Local\\Packages\\PythonSoftwareFoundation.Python.3.12_qbz5n2kfra8p0\\LocalCache\\local-packages\\Python312\\site-packages\\scipy\\io\\matlab\\_mio5.py:634\u001b[0m, in \u001b[0;36mVarWriter5.write_top\u001b[1;34m(self, arr, name, is_global)\u001b[0m\n\u001b[0;32m    632\u001b[0m \u001b[38;5;28mself\u001b[39m\u001b[38;5;241m.\u001b[39m_var_name \u001b[38;5;241m=\u001b[39m name\n\u001b[0;32m    633\u001b[0m \u001b[38;5;66;03m# write the header and data\u001b[39;00m\n\u001b[1;32m--> 634\u001b[0m \u001b[38;5;28;43mself\u001b[39;49m\u001b[38;5;241;43m.\u001b[39;49m\u001b[43mwrite\u001b[49m\u001b[43m(\u001b[49m\u001b[43marr\u001b[49m\u001b[43m)\u001b[49m\n",
      "File \u001b[1;32m~\\AppData\\Local\\Packages\\PythonSoftwareFoundation.Python.3.12_qbz5n2kfra8p0\\LocalCache\\local-packages\\Python312\\site-packages\\scipy\\io\\matlab\\_mio5.py:672\u001b[0m, in \u001b[0;36mVarWriter5.write\u001b[1;34m(self, arr)\u001b[0m\n\u001b[0;32m    670\u001b[0m     \u001b[38;5;28mself\u001b[39m\u001b[38;5;241m.\u001b[39mwrite_char(narr, codec)\n\u001b[0;32m    671\u001b[0m \u001b[38;5;28;01melse\u001b[39;00m:\n\u001b[1;32m--> 672\u001b[0m     \u001b[38;5;28;43mself\u001b[39;49m\u001b[38;5;241;43m.\u001b[39;49m\u001b[43mwrite_numeric\u001b[49m\u001b[43m(\u001b[49m\u001b[43mnarr\u001b[49m\u001b[43m)\u001b[49m\n\u001b[0;32m    673\u001b[0m \u001b[38;5;28mself\u001b[39m\u001b[38;5;241m.\u001b[39mupdate_matrix_tag(mat_tag_pos)\n",
      "File \u001b[1;32m~\\AppData\\Local\\Packages\\PythonSoftwareFoundation.Python.3.12_qbz5n2kfra8p0\\LocalCache\\local-packages\\Python312\\site-packages\\scipy\\io\\matlab\\_mio5.py:698\u001b[0m, in \u001b[0;36mVarWriter5.write_numeric\u001b[1;34m(self, arr)\u001b[0m\n\u001b[0;32m    696\u001b[0m     \u001b[38;5;28mself\u001b[39m\u001b[38;5;241m.\u001b[39mwrite_element(arr\u001b[38;5;241m.\u001b[39mimag)\n\u001b[0;32m    697\u001b[0m \u001b[38;5;28;01melse\u001b[39;00m:\n\u001b[1;32m--> 698\u001b[0m     \u001b[38;5;28;43mself\u001b[39;49m\u001b[38;5;241;43m.\u001b[39;49m\u001b[43mwrite_element\u001b[49m\u001b[43m(\u001b[49m\u001b[43marr\u001b[49m\u001b[43m)\u001b[49m\n",
      "File \u001b[1;32m~\\AppData\\Local\\Packages\\PythonSoftwareFoundation.Python.3.12_qbz5n2kfra8p0\\LocalCache\\local-packages\\Python312\\site-packages\\scipy\\io\\matlab\\_mio5.py:540\u001b[0m, in \u001b[0;36mVarWriter5.write_element\u001b[1;34m(self, arr, mdtype)\u001b[0m\n\u001b[0;32m    538\u001b[0m     \u001b[38;5;28mself\u001b[39m\u001b[38;5;241m.\u001b[39mwrite_smalldata_element(arr, mdtype, byte_count)\n\u001b[0;32m    539\u001b[0m \u001b[38;5;28;01melse\u001b[39;00m:\n\u001b[1;32m--> 540\u001b[0m     \u001b[38;5;28;43mself\u001b[39;49m\u001b[38;5;241;43m.\u001b[39;49m\u001b[43mwrite_regular_element\u001b[49m\u001b[43m(\u001b[49m\u001b[43marr\u001b[49m\u001b[43m,\u001b[49m\u001b[43m \u001b[49m\u001b[43mmdtype\u001b[49m\u001b[43m,\u001b[49m\u001b[43m \u001b[49m\u001b[43mbyte_count\u001b[49m\u001b[43m)\u001b[49m\n",
      "File \u001b[1;32m~\\AppData\\Local\\Packages\\PythonSoftwareFoundation.Python.3.12_qbz5n2kfra8p0\\LocalCache\\local-packages\\Python312\\site-packages\\scipy\\io\\matlab\\_mio5.py:556\u001b[0m, in \u001b[0;36mVarWriter5.write_regular_element\u001b[1;34m(self, arr, mdtype, byte_count)\u001b[0m\n\u001b[0;32m    554\u001b[0m tag[\u001b[38;5;124m'\u001b[39m\u001b[38;5;124mbyte_count\u001b[39m\u001b[38;5;124m'\u001b[39m] \u001b[38;5;241m=\u001b[39m byte_count\n\u001b[0;32m    555\u001b[0m \u001b[38;5;28mself\u001b[39m\u001b[38;5;241m.\u001b[39mwrite_bytes(tag)\n\u001b[1;32m--> 556\u001b[0m \u001b[38;5;28;43mself\u001b[39;49m\u001b[38;5;241;43m.\u001b[39;49m\u001b[43mwrite_bytes\u001b[49m\u001b[43m(\u001b[49m\u001b[43marr\u001b[49m\u001b[43m)\u001b[49m\n\u001b[0;32m    557\u001b[0m \u001b[38;5;66;03m# pad to next 64-bit boundary\u001b[39;00m\n\u001b[0;32m    558\u001b[0m bc_mod_8 \u001b[38;5;241m=\u001b[39m byte_count \u001b[38;5;241m%\u001b[39m \u001b[38;5;241m8\u001b[39m\n",
      "File \u001b[1;32m~\\AppData\\Local\\Packages\\PythonSoftwareFoundation.Python.3.12_qbz5n2kfra8p0\\LocalCache\\local-packages\\Python312\\site-packages\\scipy\\io\\matlab\\_mio5.py:524\u001b[0m, in \u001b[0;36mVarWriter5.write_bytes\u001b[1;34m(self, arr)\u001b[0m\n\u001b[0;32m    523\u001b[0m \u001b[38;5;28;01mdef\u001b[39;00m \u001b[38;5;21mwrite_bytes\u001b[39m(\u001b[38;5;28mself\u001b[39m, arr):\n\u001b[1;32m--> 524\u001b[0m     \u001b[38;5;28mself\u001b[39m\u001b[38;5;241m.\u001b[39mfile_stream\u001b[38;5;241m.\u001b[39mwrite(\u001b[43marr\u001b[49m\u001b[38;5;241;43m.\u001b[39;49m\u001b[43mtobytes\u001b[49m\u001b[43m(\u001b[49m\u001b[43morder\u001b[49m\u001b[38;5;241;43m=\u001b[39;49m\u001b[38;5;124;43m'\u001b[39;49m\u001b[38;5;124;43mF\u001b[39;49m\u001b[38;5;124;43m'\u001b[39;49m\u001b[43m)\u001b[49m)\n",
      "\u001b[1;31mMemoryError\u001b[0m: "
     ]
    }
   ],
   "source": [
    "ec.fit(X,y)"
   ]
  },
  {
   "cell_type": "code",
   "execution_count": 32,
   "metadata": {},
   "outputs": [],
   "source": [
    "my_list = []\n",
    "\n",
    "# Create a sublist\n",
    "sublist = [1, 2, 3]\n",
    "\n",
    "# Append the sublist to the list\n",
    "my_list.append(sublist)"
   ]
  },
  {
   "cell_type": "code",
   "execution_count": 34,
   "metadata": {},
   "outputs": [],
   "source": [
    "another=[1,2,4]\n",
    "my_list.append(another)"
   ]
  },
  {
   "cell_type": "code",
   "execution_count": 33,
   "metadata": {},
   "outputs": [
    {
     "data": {
      "text/plain": [
       "[[1, 2, 3]]"
      ]
     },
     "execution_count": 33,
     "metadata": {},
     "output_type": "execute_result"
    }
   ],
   "source": [
    "my_list"
   ]
  },
  {
   "cell_type": "code",
   "execution_count": 2,
   "metadata": {},
   "outputs": [],
   "source": [
    "n = int(input(\"Number of models: \"))"
   ]
  },
  {
   "cell_type": "code",
   "execution_count": 9,
   "metadata": {},
   "outputs": [],
   "source": [
    "def initialize():\n",
    "    all_items = []\n",
    "    for i in range(1, n+1):\n",
    "        # Construct the file name\n",
    "        file_name = 'test' + str(i) + '.txt'\n",
    "        \n",
    "        # Open the file and read the contents\n",
    "        with open(file_name, 'r') as file:\n",
    "            content = file.read()\n",
    "        \n",
    "        # Split the content into a list of numbers\n",
    "        numbers = [int(number) for number in content.split()]\n",
    "        \n",
    "        # Append the list of numbers to the all_items list\n",
    "        all_items.append(numbers)\n",
    "    return all_items"
   ]
  },
  {
   "cell_type": "code",
   "execution_count": 10,
   "metadata": {},
   "outputs": [],
   "source": [
    "\n",
    "h=initialize()"
   ]
  },
  {
   "cell_type": "code",
   "execution_count": 11,
   "metadata": {},
   "outputs": [
    {
     "data": {
      "text/plain": [
       "[[2, 2, 2, 2, 2, 2, 2, 2, 2, 2],\n",
       " [2, 2, 2, 2, 2, 2, 2, 2, 2, 2],\n",
       " [2, 2, 2, 2, 2, 2, 2, 2, 2, 2]]"
      ]
     },
     "execution_count": 11,
     "metadata": {},
     "output_type": "execute_result"
    }
   ],
   "source": [
    "h"
   ]
  },
  {
   "cell_type": "code",
   "execution_count": 2,
   "metadata": {},
   "outputs": [
    {
     "name": "stdout",
     "output_type": "stream",
     "text": [
      "[20, 20, 20]\n"
     ]
    }
   ],
   "source": [
    "sums = []\n",
    "# Iterate over each sublist in the all_items list\n",
    "for sublist in all_items:\n",
    "    # Add the desired element of the current sublist to the sum\n",
    "    sums.append(sum(sublist))\n",
    "\n",
    "# Print the result\n",
    "print(sums)"
   ]
  },
  {
   "cell_type": "code",
   "execution_count": 5,
   "metadata": {},
   "outputs": [
    {
     "ename": "SyntaxError",
     "evalue": "'return' outside function (1083104590.py, line 2)",
     "output_type": "error",
     "traceback": [
      "\u001b[1;36m  Cell \u001b[1;32mIn[5], line 2\u001b[1;36m\u001b[0m\n\u001b[1;33m    return sums\u001b[0m\n\u001b[1;37m    ^\u001b[0m\n\u001b[1;31mSyntaxError\u001b[0m\u001b[1;31m:\u001b[0m 'return' outside function\n"
     ]
    }
   ],
   "source": [
    "def predict():\n",
    "    sums = [sum(row) for row in zip(*all_items)]\n",
    "    return sums"
   ]
  },
  {
   "cell_type": "code",
   "execution_count": 12,
   "metadata": {},
   "outputs": [],
   "source": [
    "def initialize():\n",
    "    all_items = []\n",
    "    for i in range(1, n+1):\n",
    "        # Construct the file name\n",
    "        file_name = 'test' + str(i) + '.txt'\n",
    "        \n",
    "        # Open the file and read the contents\n",
    "        with open(file_name, 'r') as file:\n",
    "            content = file.read()\n",
    "        \n",
    "        # Split the content into a list of numbers\n",
    "        numbers = [int(number) for number in content.split()]\n",
    "        \n",
    "        # Append the list of numbers to the all_items list\n",
    "        all_items.append(numbers)\n",
    "    return all_items\n",
    "def predict(all_items):\n",
    "    sums = [sum(row) for row in zip(*all_items)]\n",
    "    return sums"
   ]
  },
  {
   "cell_type": "code",
   "execution_count": 13,
   "metadata": {},
   "outputs": [
    {
     "name": "stdout",
     "output_type": "stream",
     "text": [
      "[6, 6, 6, 6, 6, 6, 6, 6, 6, 6]\n"
     ]
    }
   ],
   "source": [
    "out=initialize()\n",
    "print(predict(out))"
   ]
  },
  {
   "cell_type": "code",
   "execution_count": 16,
   "metadata": {},
   "outputs": [],
   "source": [
    "import os"
   ]
  },
  {
   "cell_type": "code",
   "execution_count": 35,
   "metadata": {},
   "outputs": [],
   "source": [
    "def read_file(file_name):\n",
    "    with open(file_name, 'r') as file:\n",
    "        content = file.read()\n",
    "    return [int(number) for number in content.split()] # yo vaneko number le each content lai point garcha file ko ani list ko form ma return huncha\n",
    "\n",
    "def create_third_file(input_files, output_file):\n",
    "    # Read the contents of all input files\n",
    "    numbers = [read_file(file_name) for file_name in input_files]\n",
    "\n",
    "    # Initialize a list to store the counts of positive and negative values in each position\n",
    "    counts = [[0, 0] for _ in range(len(numbers[0]))]\n",
    "\n",
    "    # Count the number of positive and negative values in each position\n",
    "    for row in numbers:\n",
    "        for i, value in enumerate(row):\n",
    "            if value > 0:\n",
    "                counts[i][0] += 1\n",
    "            else:\n",
    "                counts[i][1] += 1\n",
    "\n",
    "    # Determine the majority of positive or negative values in each position\n",
    "    result = [1 if count[0] > count[1] else -1 for count in counts]\n",
    "\n",
    "    # Write the result to the output file\n",
    "    with open(output_file, 'w') as file:\n",
    "        for number in result:\n",
    "            file.write(str(number) + '\\n')\n",
    "\n",
    "# Get all the files in the current directory\n",
    "input_files = [file_name for file_name in os.listdir() if file_name.endswith('.txt')]\n",
    "\n"
   ]
  },
  {
   "cell_type": "code",
   "execution_count": 36,
   "metadata": {},
   "outputs": [
    {
     "data": {
      "text/plain": [
       "['stegov1.txt', 'stegov2.txt', 'stegov3.txt', 'stegov4.txt']"
      ]
     },
     "execution_count": 36,
     "metadata": {},
     "output_type": "execute_result"
    }
   ],
   "source": [
    "input_files"
   ]
  },
  {
   "cell_type": "code",
   "execution_count": 37,
   "metadata": {},
   "outputs": [],
   "source": [
    "create_third_file(input_files,'result.txt')"
   ]
  },
  {
   "cell_type": "code",
   "execution_count": 43,
   "metadata": {},
   "outputs": [
    {
     "name": "stdout",
     "output_type": "stream",
     "text": [
      "% accuracy is: 58.41\n"
     ]
    }
   ],
   "source": [
    "with open('stegov4.txt', 'r') as file:\n",
    "    lines = file.readlines()\n",
    "total_positive = 0\n",
    "count=0\n",
    "\n",
    "for line in lines:\n",
    "    count+=1\n",
    "    number = int(line.strip())\n",
    "    if number > 0:\n",
    "        total_positive += 1\n",
    "\n",
    "print(f'% accuracy is: {(total_positive/count)*100}')"
   ]
  },
  {
   "cell_type": "code",
   "execution_count": null,
   "metadata": {},
   "outputs": [],
   "source": []
  }
 ],
 "metadata": {
  "kernelspec": {
   "display_name": "Python 3",
   "language": "python",
   "name": "python3"
  },
  "language_info": {
   "codemirror_mode": {
    "name": "ipython",
    "version": 3
   },
   "file_extension": ".py",
   "mimetype": "text/x-python",
   "name": "python",
   "nbconvert_exporter": "python",
   "pygments_lexer": "ipython3",
   "version": "3.12.2"
  }
 },
 "nbformat": 4,
 "nbformat_minor": 2
}
